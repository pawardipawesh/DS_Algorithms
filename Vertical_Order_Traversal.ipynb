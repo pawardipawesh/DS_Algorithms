{
 "cells": [
  {
   "cell_type": "code",
   "execution_count": 1,
   "metadata": {},
   "outputs": [],
   "source": [
    "#create binary tree class\n",
    "class Binary_Tree():\n",
    "    \n",
    "    def __init__(self,data):\n",
    "        self.data=data\n",
    "        self.left=None\n",
    "        self.right=None\n",
    "        self.position=0 # give position to each node......node' position equals its root nodes position-1 \n",
    "                        #if it is left child of root else it is root node's position +1\n",
    "                        # All with same position are in same verticle line"
   ]
  },
  {
   "cell_type": "code",
   "execution_count": 2,
   "metadata": {},
   "outputs": [],
   "source": [
    "def vertical_order_traversal(root):\n",
    "    queue=[]\n",
    "    queue.append(root)\n",
    "    start=0\n",
    "    end=1\n",
    "    diction={}\n",
    "    while start<end:\n",
    "        \n",
    "        #pop element and update start\n",
    "        element=queue[start]\n",
    "        start+=1\n",
    "        \n",
    "        #update position dictionary\n",
    "        if element.position in diction:\n",
    "            diction[element.position].add(element.data)\n",
    "        else:\n",
    "            s=set()\n",
    "            s.add(element.data)\n",
    "            diction[element.position]=s\n",
    "        \n",
    "        #add childerns of popped element in queue and update their position\n",
    "        if element.left!=None:\n",
    "            element.left.position=element.position-1\n",
    "            queue.append(element.left)\n",
    "            end+=1\n",
    "        if element.right!=None:\n",
    "            element.right.position=element.position+1\n",
    "            queue.append(element.right)\n",
    "            end+=1\n",
    "    \n",
    "    #iterate map and print values on seperate line to get vertical order travsersal\n",
    "    for key, value in diction.items():\n",
    "        print(value)\n",
    "        \n",
    " "
   ]
  },
  {
   "cell_type": "code",
   "execution_count": 3,
   "metadata": {},
   "outputs": [
    {
     "name": "stdout",
     "output_type": "stream",
     "text": [
      "Example Tree\n"
     ]
    },
    {
     "data": {
      "image/png": "[encoded data removed]",
      "text/plain": [
       "<IPython.core.display.Image object>"
      ]
     },
     "execution_count": 3,
     "metadata": {},
     "output_type": "execute_result"
    }
   ],
   "source": [
    "from IPython.display import Image\n",
    "print('Example Tree')\n",
    "Image(\"tree_vertical_order_traversal.png\")\n"
   ]
  },
  {
   "cell_type": "code",
   "execution_count": 4,
   "metadata": {},
   "outputs": [],
   "source": [
    "#create example tree\n",
    "bt=Binary_Tree(1)\n",
    "bt.left=Binary_Tree(2)\n",
    "bt.right=Binary_Tree(3)\n",
    "bt.left.left=Binary_Tree(4)\n",
    "bt.left.right=Binary_Tree(5)\n",
    "bt.right.left=Binary_Tree(6)\n",
    "bt.right.right=Binary_Tree(7)\n",
    "bt.right.left.right=Binary_Tree(8)\n",
    "bt.right.right.right=Binary_Tree(9)\n"
   ]
  },
  {
   "cell_type": "code",
   "execution_count": 5,
   "metadata": {},
   "outputs": [
    {
     "name": "stdout",
     "output_type": "stream",
     "text": [
      "{1, 5, 6}\n",
      "{2}\n",
      "{8, 3}\n",
      "{4}\n",
      "{7}\n",
      "{9}\n"
     ]
    }
   ],
   "source": [
    "vertical_order_traversal(bt)"
   ]
  },
  {
   "cell_type": "code",
   "execution_count": null,
   "metadata": {},
   "outputs": [],
   "source": []
  }
 ],
 "metadata": {
  "kernelspec": {
   "display_name": "Python 3",
   "language": "python",
   "name": "python3"
  },
  "language_info": {
   "codemirror_mode": {
    "name": "ipython",
    "version": 3
   },
   "file_extension": ".py",
   "mimetype": "text/x-python",
   "name": "python",
   "nbconvert_exporter": "python",
   "pygments_lexer": "ipython3",
   "version": "3.7.3"
  }
 },
 "nbformat": 4,
 "nbformat_minor": 2
}
