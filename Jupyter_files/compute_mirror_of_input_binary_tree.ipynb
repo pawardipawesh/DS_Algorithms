{
 "cells": [
  {
   "cell_type": "code",
   "execution_count": 1,
   "metadata": {},
   "outputs": [],
   "source": [
    "from Binary_Tree import Binary_Tree"
   ]
  },
  {
   "cell_type": "code",
   "execution_count": 3,
   "metadata": {},
   "outputs": [],
   "source": [
    "root=Binary_Tree(1,None,None)\n",
    "root.create_tree()"
   ]
  },
  {
   "cell_type": "code",
   "execution_count": 11,
   "metadata": {},
   "outputs": [
    {
     "name": "stdout",
     "output_type": "stream",
     "text": [
      "8\n",
      "4\n",
      "9\n",
      "2\n",
      "10\n",
      "5\n",
      "11\n",
      "1\n",
      "12\n",
      "6\n",
      "13\n",
      "3\n",
      "14\n",
      "7\n",
      "15\n"
     ]
    }
   ],
   "source": [
    "root.inorder_traversal()"
   ]
  },
  {
   "cell_type": "code",
   "execution_count": 8,
   "metadata": {},
   "outputs": [],
   "source": [
    "def create_mirror(root):\n",
    "    \n",
    "    if root==None:\n",
    "        return None\n",
    "    \n",
    "    left_mirrored=create_mirror(root.left)\n",
    "    right_mirrored=create_mirror(root.right)\n",
    "    \n",
    "    root.left=right_mirrored\n",
    "    root.right=left_mirrored\n",
    "    \n",
    "    return root"
   ]
  },
  {
   "cell_type": "code",
   "execution_count": 12,
   "metadata": {},
   "outputs": [],
   "source": [
    "mirrored_tree_root=create_mirror(root)"
   ]
  },
  {
   "cell_type": "code",
   "execution_count": 13,
   "metadata": {},
   "outputs": [
    {
     "name": "stdout",
     "output_type": "stream",
     "text": [
      "15\n",
      "7\n",
      "14\n",
      "3\n",
      "13\n",
      "6\n",
      "12\n",
      "1\n",
      "11\n",
      "5\n",
      "10\n",
      "2\n",
      "9\n",
      "4\n",
      "8\n"
     ]
    }
   ],
   "source": [
    "mirrored_tree_root.inorder_traversal()"
   ]
  },
  {
   "cell_type": "code",
   "execution_count": null,
   "metadata": {},
   "outputs": [],
   "source": []
  }
 ],
 "metadata": {
  "kernelspec": {
   "display_name": "Python 3",
   "language": "python",
   "name": "python3"
  },
  "language_info": {
   "codemirror_mode": {
    "name": "ipython",
    "version": 3
   },
   "file_extension": ".py",
   "mimetype": "text/x-python",
   "name": "python",
   "nbconvert_exporter": "python",
   "pygments_lexer": "ipython3",
   "version": "3.7.3"
  }
 },
 "nbformat": 4,
 "nbformat_minor": 2
}
