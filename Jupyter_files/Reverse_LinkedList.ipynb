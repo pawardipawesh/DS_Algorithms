{
 "cells": [
  {
   "cell_type": "code",
   "execution_count": 3,
   "metadata": {},
   "outputs": [],
   "source": [
    "#Reverse a Linked List without using any auxiliary space\n",
    "class LinkedList:\n",
    "    def __init__(self,data):\n",
    "            self.data=data\n",
    "            self.next=None\n",
    "            \n",
    "    def reverse(list_head):\n",
    "        previous_node=None\n",
    "        next_node=list_head.next\n",
    "        \n",
    "        while next_node!=None:\n",
    "            list_head.next=previous_node\n",
    "            previous_node=list_head\n",
    "            list_head=next_node\n",
    "            next_node=next_node.next\n",
    "        list_head.next=previous_node\n",
    "        return list_head\n",
    "    \n",
    "    def traverse(list_head):\n",
    "        temp=list_head\n",
    "        while temp!=None:\n",
    "            print(temp.data)\n",
    "            temp=temp.next"
   ]
  },
  {
   "cell_type": "code",
   "execution_count": 12,
   "metadata": {},
   "outputs": [],
   "source": [
    "#create list\n",
    "list_head=LinkedList(1)\n",
    "list_head.next=LinkedList(2)\n",
    "list_head.next.next=LinkedList(3)\n",
    "list_head.next.next.next=LinkedList(4)"
   ]
  },
  {
   "cell_type": "code",
   "execution_count": 13,
   "metadata": {},
   "outputs": [
    {
     "name": "stdout",
     "output_type": "stream",
     "text": [
      "1\n",
      "2\n",
      "3\n",
      "4\n"
     ]
    }
   ],
   "source": [
    "LinkedList.traverse(list_head)"
   ]
  },
  {
   "cell_type": "code",
   "execution_count": 14,
   "metadata": {},
   "outputs": [],
   "source": [
    "list_head=LinkedList.reverse(list_head)"
   ]
  },
  {
   "cell_type": "code",
   "execution_count": 15,
   "metadata": {},
   "outputs": [
    {
     "name": "stdout",
     "output_type": "stream",
     "text": [
      "4\n",
      "3\n",
      "2\n",
      "1\n"
     ]
    }
   ],
   "source": [
    "LinkedList.traverse(list_head)"
   ]
  },
  {
   "cell_type": "code",
   "execution_count": null,
   "metadata": {},
   "outputs": [],
   "source": []
  }
 ],
 "metadata": {
  "kernelspec": {
   "display_name": "Python 3",
   "language": "python",
   "name": "python3"
  },
  "language_info": {
   "codemirror_mode": {
    "name": "ipython",
    "version": 3
   },
   "file_extension": ".py",
   "mimetype": "text/x-python",
   "name": "python",
   "nbconvert_exporter": "python",
   "pygments_lexer": "ipython3",
   "version": "3.7.3"
  }
 },
 "nbformat": 4,
 "nbformat_minor": 2
}
