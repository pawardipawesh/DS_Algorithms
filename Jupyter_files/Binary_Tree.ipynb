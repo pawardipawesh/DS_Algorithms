{
 "cells": [
  {
   "cell_type": "code",
   "execution_count": 1,
   "metadata": {},
   "outputs": [],
   "source": [
    "class Binary_Tree():\n",
    "    def __init__(self,data,left,right):\n",
    "        self.data=data\n",
    "        self.left=left\n",
    "        self.right=right\n",
    "    def create_tree():\n",
    "        root=Binary_Tree(1,None,None)\n",
    "        root.left=Binary_Tree(2,None,None)\n",
    "        root.right=Binary_Tree(3,None,None)\n",
    "        root.left.left=Binary_Tree(4,None,None)\n",
    "        root.left.right=Binary_Tree(5,None,None)\n",
    "        root.right.left=Binary_Tree(6,None,None)\n",
    "        root.right.right=Binary_Tree(7,None,None)\n",
    "        root.left.left.left=Binary_Tree(8,None,None)\n",
    "        root.left.left.right=Binary_Tree(9,None,None)\n",
    "        root.left.right.left=Binary_Tree(10,None,None)\n",
    "        root.left.right.right=Binary_Tree(11,None,None)\n",
    "        root.right.left.left=Binary_Tree(12,None,None)\n",
    "        root.right.left.right=Binary_Tree(13,None,None)\n",
    "        root.right.right.left=Binary_Tree(14,None,None)\n",
    "        root.right.right.right=Binary_Tree(15,None,None)\n",
    "        return root\n",
    "    @staticmethod\n",
    "    def inorder_traversal(root):\n",
    "        if root.left!=None:\n",
    "            inorder_traversal(root.left)\n",
    "        print(root.data)\n",
    "        if root.right!=None:\n",
    "            inorder_traversal(root.right)\n",
    "    \n",
    "    def preorder_traversal(self,root):\n",
    "        print(root.data)\n",
    "        if root.left!=None:\n",
    "            preorder_traversal(root.left)\n",
    "        if root.right!=None:\n",
    "            preorder_traversal(root.right)\n",
    "    \n",
    "    def postorder_traversal(self,root):\n",
    "        if root.left!=None:\n",
    "            postorder_traversal(root.left)\n",
    "        if root.right!=None:\n",
    "            postorder_traversal(root.right)\n",
    "        print(root.data)\n",
    "    "
   ]
  },
  {
   "cell_type": "code",
   "execution_count": null,
   "metadata": {},
   "outputs": [],
   "source": []
  }
 ],
 "metadata": {
  "kernelspec": {
   "display_name": "Python 3",
   "language": "python",
   "name": "python3"
  },
  "language_info": {
   "codemirror_mode": {
    "name": "ipython",
    "version": 3
   },
   "file_extension": ".py",
   "mimetype": "text/x-python",
   "name": "python",
   "nbconvert_exporter": "python",
   "pygments_lexer": "ipython3",
   "version": "3.7.3"
  }
 },
 "nbformat": 4,
 "nbformat_minor": 2
}
