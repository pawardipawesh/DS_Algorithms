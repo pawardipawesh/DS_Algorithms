{
 "cells": [
  {
   "cell_type": "markdown",
   "metadata": {},
   "source": [
    "### Following code expects elements to be present in tree.....otherwise results are not correct"
   ]
  },
  {
   "cell_type": "code",
   "execution_count": 1,
   "metadata": {},
   "outputs": [],
   "source": [
    "from Binary_Tree import Binary_Tree"
   ]
  },
  {
   "cell_type": "code",
   "execution_count": 2,
   "metadata": {},
   "outputs": [],
   "source": [
    "def find_LCA(root,element1,element2):\n",
    "    if root==None:\n",
    "        return None\n",
    "    \n",
    "    if root.data==element1 or root.data==element2:\n",
    "        return root\n",
    "    \n",
    "    left=find_LCA(root.left,element1,element2)\n",
    "    right=find_LCA(root.right,element1,element2)\n",
    "    \n",
    "    if left and right:\n",
    "        return root\n",
    "    \n",
    "    if left:\n",
    "        return left\n",
    "    \n",
    "    if right:\n",
    "        return right"
   ]
  },
  {
   "cell_type": "code",
   "execution_count": 3,
   "metadata": {},
   "outputs": [],
   "source": [
    "root=Binary_Tree(1,None,None)\n",
    "root.create_tree()\n"
   ]
  },
  {
   "cell_type": "code",
   "execution_count": 14,
   "metadata": {},
   "outputs": [
    {
     "name": "stdout",
     "output_type": "stream",
     "text": [
      "1\n",
      "2\n",
      "4\n",
      "8\n",
      "9\n",
      "5\n",
      "10\n",
      "11\n",
      "3\n",
      "6\n",
      "12\n",
      "13\n",
      "7\n",
      "14\n",
      "15\n"
     ]
    }
   ],
   "source": [
    "root.preorder_traversal()"
   ]
  },
  {
   "cell_type": "code",
   "execution_count": 13,
   "metadata": {},
   "outputs": [
    {
     "data": {
      "text/plain": [
       "3"
      ]
     },
     "execution_count": 13,
     "metadata": {},
     "output_type": "execute_result"
    }
   ],
   "source": [
    "find_LCA(root,3,14).data"
   ]
  },
  {
   "cell_type": "code",
   "execution_count": null,
   "metadata": {},
   "outputs": [],
   "source": []
  }
 ],
 "metadata": {
  "kernelspec": {
   "display_name": "Python 3",
   "language": "python",
   "name": "python3"
  },
  "language_info": {
   "codemirror_mode": {
    "name": "ipython",
    "version": 3
   },
   "file_extension": ".py",
   "mimetype": "text/x-python",
   "name": "python",
   "nbconvert_exporter": "python",
   "pygments_lexer": "ipython3",
   "version": "3.7.3"
  }
 },
 "nbformat": 4,
 "nbformat_minor": 2
}
