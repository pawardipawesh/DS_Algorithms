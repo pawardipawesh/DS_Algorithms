{
 "cells": [
  {
   "cell_type": "code",
   "execution_count": 14,
   "metadata": {},
   "outputs": [],
   "source": [
    "def digonally(array,array_len):\n",
    "    i=0\n",
    "    j=0\n",
    "    output_str=''\n",
    "    row=0\n",
    "    column=0\n",
    "    while True:\n",
    "        output_str+=array[i][j]+' '\n",
    "        i+=1\n",
    "        j-=1\n",
    "        \n",
    "        if i>=len(array) or j<0:\n",
    "            print(output_str.strip())\n",
    "            output_str=''\n",
    "            if column<array_len-1:\n",
    "                column+=1\n",
    "            else:\n",
    "                if row < array_len-1:\n",
    "                    row+=1\n",
    "                else:\n",
    "                    break\n",
    "            i=row\n",
    "            j=column"
   ]
  },
  {
   "cell_type": "code",
   "execution_count": 17,
   "metadata": {},
   "outputs": [
    {
     "name": "stdout",
     "output_type": "stream",
     "text": [
      "1\n",
      "2\n",
      "8 4 7 8\n",
      "[['8', '4'], ['7', '8']]\n",
      "8\n",
      "4 7\n",
      "8\n"
     ]
    }
   ],
   "source": [
    "def fill_matrix(array,array_len):\n",
    "    matrix=[]\n",
    "    i=0\n",
    "    while True:\n",
    "        if i>=array_len*array_len:\n",
    "            break\n",
    "        else:\n",
    "            matrix.append(array[i:i+array_len])\n",
    "            i+=array_len\n",
    "                \n",
    "    return matrix\n",
    "\n",
    "def main():\n",
    "    test_cases=int(input())\n",
    "    \n",
    "    for t in range(test_cases):\n",
    "        array_len=int(input())\n",
    "        array=input().split()\n",
    "        matrix=fill_matrix(array,array_len)\n",
    "        print(matrix)\n",
    "        digonally(matrix,array_len)\n",
    "if __name__=='__main__':\n",
    "    main()"
   ]
  },
  {
   "cell_type": "code",
   "execution_count": null,
   "metadata": {},
   "outputs": [],
   "source": []
  }
 ],
 "metadata": {
  "kernelspec": {
   "display_name": "Python 3",
   "language": "python",
   "name": "python3"
  },
  "language_info": {
   "codemirror_mode": {
    "name": "ipython",
    "version": 3
   },
   "file_extension": ".py",
   "mimetype": "text/x-python",
   "name": "python",
   "nbconvert_exporter": "python",
   "pygments_lexer": "ipython3",
   "version": "3.7.3"
  }
 },
 "nbformat": 4,
 "nbformat_minor": 2
}
