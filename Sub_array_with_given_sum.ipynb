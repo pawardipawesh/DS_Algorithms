{
 "cells": [
  {
   "cell_type": "code",
   "execution_count": 17,
   "metadata": {},
   "outputs": [],
   "source": [
    "#code\n",
    "\n",
    "def sub_array_with_sum(array, in_sum):\n",
    "    from_index=0\n",
    "    to_index=0\n",
    "    sum_till_now=0\n",
    "    for i,e in enumerate(array):\n",
    "        #print(str(i)+str(e))\n",
    "        sum_till_now+=int(array[i])\n",
    "        to_index=i\n",
    "        \n",
    "        if sum_till_now==in_sum:\n",
    "            return str(from_index+1)+' '+str(to_index+1)\n",
    "        \n",
    "        if sum_till_now<in_sum:\n",
    "            \n",
    "            continue\n",
    "        else:\n",
    "            sum_till_now-=int(array[from_index])\n",
    "            from_index+=1\n",
    "            while sum_till_now>=in_sum:\n",
    "                if sum_till_now==in_sum:\n",
    "                    return str(from_index+1)+' '+str(to_index+1)\n",
    "                else:\n",
    "                    sum_till_now-=int(array[from_index])\n",
    "                    from_index+=1\n",
    "                \n",
    "    return str(-1)\n",
    "                \n",
    "def main():\n",
    "    no_test_cases=input()\n",
    "    for test_case in no_test_cases:\n",
    "        inp=input()\n",
    "        inp_arr=inp.split()\n",
    "        array_len=inp_arr[0]\n",
    "        in_sum=inp_arr[1]\n",
    "        array=input()\n",
    "        #print(str(array)+str(in_sum))\n",
    "        output_str=sub_array_with_sum(array.split(), int(in_sum))\n",
    "        print(output_str)\n"
   ]
  },
  {
   "cell_type": "code",
   "execution_count": 18,
   "metadata": {},
   "outputs": [
    {
     "name": "stdout",
     "output_type": "stream",
     "text": [
      "1\n",
      "42 468\n",
      "135 101 170 125 79 159 163 65 106 146 82 28 162 92 196 143 28 37 192 5 103 154 93 183 22 117 119 96 48 127 172 139 70 113 68 100 36 95 104 12 123 134\n",
      "38 42\n"
     ]
    }
   ],
   "source": [
    "main()"
   ]
  },
  {
   "cell_type": "code",
   "execution_count": null,
   "metadata": {},
   "outputs": [],
   "source": []
  }
 ],
 "metadata": {
  "kernelspec": {
   "display_name": "Python 3",
   "language": "python",
   "name": "python3"
  },
  "language_info": {
   "codemirror_mode": {
    "name": "ipython",
    "version": 3
   },
   "file_extension": ".py",
   "mimetype": "text/x-python",
   "name": "python",
   "nbconvert_exporter": "python",
   "pygments_lexer": "ipython3",
   "version": "3.7.3"
  }
 },
 "nbformat": 4,
 "nbformat_minor": 2
}
